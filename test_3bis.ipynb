{
 "cells": [
  {
   "cell_type": "code",
   "execution_count": 1,
   "metadata": {},
   "outputs": [],
   "source": [
    "import pandas as pd\n",
    "import pandas_datareader.data as web\n",
    "import datetime as dt\n",
    "import time"
   ]
  },
  {
   "cell_type": "code",
   "execution_count": 2,
   "metadata": {},
   "outputs": [
    {
     "name": "stdout",
     "output_type": "stream",
     "text": [
      "[*********************100%***********************]  1 of 1 completed\n"
     ]
    }
   ],
   "source": [
    "from pandas_datareader import data as pdr\n",
    "import yfinance as yf\n",
    "yf.pdr_override()\n",
    "y_symbols = ['TATAPOWER.NS']\n",
    "from datetime import datetime\n",
    "startdate = dt.datetime(2000,1,1)\n",
    "enddate = dt.datetime(2020,1,1)\n",
    "data = pdr.get_data_yahoo(y_symbols, start=startdate, end=enddate)"
   ]
  },
  {
   "cell_type": "code",
   "execution_count": 3,
   "metadata": {},
   "outputs": [
    {
     "data": {
      "text/html": [
       "<div>\n",
       "<style scoped>\n",
       "    .dataframe tbody tr th:only-of-type {\n",
       "        vertical-align: middle;\n",
       "    }\n",
       "\n",
       "    .dataframe tbody tr th {\n",
       "        vertical-align: top;\n",
       "    }\n",
       "\n",
       "    .dataframe thead th {\n",
       "        text-align: right;\n",
       "    }\n",
       "</style>\n",
       "<table border=\"1\" class=\"dataframe\">\n",
       "  <thead>\n",
       "    <tr style=\"text-align: right;\">\n",
       "      <th></th>\n",
       "      <th>Open</th>\n",
       "      <th>High</th>\n",
       "      <th>Low</th>\n",
       "      <th>Close</th>\n",
       "      <th>Adj Close</th>\n",
       "      <th>Volume</th>\n",
       "    </tr>\n",
       "    <tr>\n",
       "      <th>Date</th>\n",
       "      <th></th>\n",
       "      <th></th>\n",
       "      <th></th>\n",
       "      <th></th>\n",
       "      <th></th>\n",
       "      <th></th>\n",
       "    </tr>\n",
       "  </thead>\n",
       "  <tbody>\n",
       "    <tr>\n",
       "      <th>2000-01-03</th>\n",
       "      <td>7.382381</td>\n",
       "      <td>7.527133</td>\n",
       "      <td>7.044625</td>\n",
       "      <td>7.406506</td>\n",
       "      <td>4.309473</td>\n",
       "      <td>994997</td>\n",
       "    </tr>\n",
       "    <tr>\n",
       "      <th>2000-01-04</th>\n",
       "      <td>7.199028</td>\n",
       "      <td>7.527133</td>\n",
       "      <td>7.049450</td>\n",
       "      <td>7.420981</td>\n",
       "      <td>4.317896</td>\n",
       "      <td>1058302</td>\n",
       "    </tr>\n",
       "    <tr>\n",
       "      <th>2000-01-05</th>\n",
       "      <td>7.165252</td>\n",
       "      <td>7.681536</td>\n",
       "      <td>7.054275</td>\n",
       "      <td>7.565734</td>\n",
       "      <td>4.402121</td>\n",
       "      <td>873414</td>\n",
       "    </tr>\n",
       "    <tr>\n",
       "      <th>2000-01-06</th>\n",
       "      <td>7.720137</td>\n",
       "      <td>8.135094</td>\n",
       "      <td>7.710487</td>\n",
       "      <td>7.802163</td>\n",
       "      <td>4.539687</td>\n",
       "      <td>2088480</td>\n",
       "    </tr>\n",
       "    <tr>\n",
       "      <th>2000-01-07</th>\n",
       "      <td>8.009642</td>\n",
       "      <td>8.009642</td>\n",
       "      <td>7.720137</td>\n",
       "      <td>7.787688</td>\n",
       "      <td>4.531265</td>\n",
       "      <td>514643</td>\n",
       "    </tr>\n",
       "    <tr>\n",
       "      <th>...</th>\n",
       "      <td>...</td>\n",
       "      <td>...</td>\n",
       "      <td>...</td>\n",
       "      <td>...</td>\n",
       "      <td>...</td>\n",
       "      <td>...</td>\n",
       "    </tr>\n",
       "    <tr>\n",
       "      <th>2019-12-24</th>\n",
       "      <td>56.450001</td>\n",
       "      <td>56.650002</td>\n",
       "      <td>55.750000</td>\n",
       "      <td>56.099998</td>\n",
       "      <td>53.253574</td>\n",
       "      <td>7649247</td>\n",
       "    </tr>\n",
       "    <tr>\n",
       "      <th>2019-12-26</th>\n",
       "      <td>56.000000</td>\n",
       "      <td>56.549999</td>\n",
       "      <td>55.000000</td>\n",
       "      <td>55.150002</td>\n",
       "      <td>52.351784</td>\n",
       "      <td>4026238</td>\n",
       "    </tr>\n",
       "    <tr>\n",
       "      <th>2019-12-27</th>\n",
       "      <td>55.299999</td>\n",
       "      <td>56.299999</td>\n",
       "      <td>55.299999</td>\n",
       "      <td>56.099998</td>\n",
       "      <td>53.253574</td>\n",
       "      <td>2983035</td>\n",
       "    </tr>\n",
       "    <tr>\n",
       "      <th>2019-12-30</th>\n",
       "      <td>55.900002</td>\n",
       "      <td>56.700001</td>\n",
       "      <td>55.700001</td>\n",
       "      <td>56.450001</td>\n",
       "      <td>53.585819</td>\n",
       "      <td>3198070</td>\n",
       "    </tr>\n",
       "    <tr>\n",
       "      <th>2019-12-31</th>\n",
       "      <td>56.500000</td>\n",
       "      <td>56.900002</td>\n",
       "      <td>56.299999</td>\n",
       "      <td>56.500000</td>\n",
       "      <td>53.633282</td>\n",
       "      <td>3504310</td>\n",
       "    </tr>\n",
       "  </tbody>\n",
       "</table>\n",
       "<p>4998 rows × 6 columns</p>\n",
       "</div>"
      ],
      "text/plain": [
       "                 Open       High        Low      Close  Adj Close   Volume\n",
       "Date                                                                      \n",
       "2000-01-03   7.382381   7.527133   7.044625   7.406506   4.309473   994997\n",
       "2000-01-04   7.199028   7.527133   7.049450   7.420981   4.317896  1058302\n",
       "2000-01-05   7.165252   7.681536   7.054275   7.565734   4.402121   873414\n",
       "2000-01-06   7.720137   8.135094   7.710487   7.802163   4.539687  2088480\n",
       "2000-01-07   8.009642   8.009642   7.720137   7.787688   4.531265   514643\n",
       "...               ...        ...        ...        ...        ...      ...\n",
       "2019-12-24  56.450001  56.650002  55.750000  56.099998  53.253574  7649247\n",
       "2019-12-26  56.000000  56.549999  55.000000  55.150002  52.351784  4026238\n",
       "2019-12-27  55.299999  56.299999  55.299999  56.099998  53.253574  2983035\n",
       "2019-12-30  55.900002  56.700001  55.700001  56.450001  53.585819  3198070\n",
       "2019-12-31  56.500000  56.900002  56.299999  56.500000  53.633282  3504310\n",
       "\n",
       "[4998 rows x 6 columns]"
      ]
     },
     "execution_count": 3,
     "metadata": {},
     "output_type": "execute_result"
    }
   ],
   "source": [
    "data "
   ]
  },
  {
   "cell_type": "code",
   "execution_count": 4,
   "metadata": {},
   "outputs": [],
   "source": [
    "def slow_func(row):\n",
    "    time.sleep(0.001) #Delay execution for a\n",
    "    #given number of seconds. The argument may be a floating point \n",
    "    #number for subsecond precision.\n",
    "    return row\n"
   ]
  },
  {
   "cell_type": "code",
   "execution_count": 5,
   "metadata": {},
   "outputs": [],
   "source": [
    "t1 = time.time()\n",
    "data['Close'].iloc[:1000].apply(slow_func)\n",
    "t2 = time.time()"
   ]
  },
  {
   "cell_type": "code",
   "execution_count": 6,
   "metadata": {},
   "outputs": [
    {
     "data": {
      "text/plain": [
       "24.396345615386963"
      ]
     },
     "execution_count": 6,
     "metadata": {},
     "output_type": "execute_result"
    }
   ],
   "source": [
    "t2-t1"
   ]
  },
  {
   "attachments": {},
   "cell_type": "markdown",
   "metadata": {},
   "source": [
    "Let's try to speed it up thanks to Swifter"
   ]
  },
  {
   "cell_type": "code",
   "execution_count": 7,
   "metadata": {},
   "outputs": [
    {
     "data": {
      "text/plain": [
       "0.6966025829315186"
      ]
     },
     "execution_count": 7,
     "metadata": {},
     "output_type": "execute_result"
    }
   ],
   "source": [
    "import swifter\n",
    "t1 = time.time()\n",
    "data['Close'].iloc[:1000].swifter.apply(slow_func)\n",
    "t2 = time.time()\n",
    "t2-t1"
   ]
  },
  {
   "cell_type": "code",
   "execution_count": 8,
   "metadata": {},
   "outputs": [],
   "source": [
    "from decimal import Decimal"
   ]
  },
  {
   "cell_type": "code",
   "execution_count": 9,
   "metadata": {},
   "outputs": [],
   "source": [
    "import math"
   ]
  },
  {
   "cell_type": "code",
   "execution_count": 10,
   "metadata": {},
   "outputs": [],
   "source": [
    "t1 = time.time()\n",
    "data['Close'].apply(lambda x: Decimal(math.factorial(int(x*50))))\n",
    "t2 = time.time()"
   ]
  },
  {
   "cell_type": "code",
   "execution_count": 11,
   "metadata": {},
   "outputs": [
    {
     "data": {
      "text/plain": [
       "45.44249486923218"
      ]
     },
     "execution_count": 11,
     "metadata": {},
     "output_type": "execute_result"
    }
   ],
   "source": [
    "t2-t1"
   ]
  },
  {
   "cell_type": "code",
   "execution_count": 12,
   "metadata": {},
   "outputs": [
    {
     "data": {
      "application/vnd.jupyter.widget-view+json": {
       "model_id": "e7f9c548b6194d6eb98d25ff890356f5",
       "version_major": 2,
       "version_minor": 0
      },
      "text/plain": [
       "Dask Apply:   0%|          | 0/4 [00:00<?, ?it/s]"
      ]
     },
     "metadata": {},
     "output_type": "display_data"
    }
   ],
   "source": [
    "t1 = time.time()\n",
    "data['Close'].swifter.apply(lambda x: Decimal(math.factorial(int(x*50))))\n",
    "t2 = time.time()"
   ]
  },
  {
   "cell_type": "code",
   "execution_count": 13,
   "metadata": {},
   "outputs": [
    {
     "data": {
      "text/plain": [
       "64.73232293128967"
      ]
     },
     "execution_count": 13,
     "metadata": {},
     "output_type": "execute_result"
    }
   ],
   "source": [
    "t2-t1"
   ]
  },
  {
   "cell_type": "code",
   "execution_count": 14,
   "metadata": {},
   "outputs": [
    {
     "data": {
      "text/plain": [
       "0.0049991607666015625"
      ]
     },
     "execution_count": 14,
     "metadata": {},
     "output_type": "execute_result"
    }
   ],
   "source": [
    "t1 = time.time()\n",
    "data['Close'].apply(lambda x: x**2)\n",
    "t2 = time.time()\n",
    "t2-t1"
   ]
  },
  {
   "cell_type": "code",
   "execution_count": 15,
   "metadata": {},
   "outputs": [
    {
     "data": {
      "text/plain": [
       "0.0030002593994140625"
      ]
     },
     "execution_count": 15,
     "metadata": {},
     "output_type": "execute_result"
    }
   ],
   "source": [
    "t1 = time.time()\n",
    "data['Close'].swifter.apply(lambda x: x**2)\n",
    "t2 = time.time()\n",
    "t2-t1"
   ]
  }
 ],
 "metadata": {
  "kernelspec": {
   "display_name": "Python 3",
   "language": "python",
   "name": "python3"
  },
  "language_info": {
   "codemirror_mode": {
    "name": "ipython",
    "version": 3
   },
   "file_extension": ".py",
   "mimetype": "text/x-python",
   "name": "python",
   "nbconvert_exporter": "python",
   "pygments_lexer": "ipython3",
   "version": "3.10.4"
  },
  "orig_nbformat": 4,
  "vscode": {
   "interpreter": {
    "hash": "26de051ba29f2982a8de78e945f0abaf191376122a1563185a90213a26c5da77"
   }
  }
 },
 "nbformat": 4,
 "nbformat_minor": 2
}
